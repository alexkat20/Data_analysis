{
  "nbformat": 4,
  "nbformat_minor": 0,
  "metadata": {
    "colab": {
      "name": "Homework7.ipynb",
      "provenance": [],
      "collapsed_sections": []
    },
    "kernelspec": {
      "name": "python3",
      "display_name": "Python 3"
    },
    "language_info": {
      "name": "python"
    }
  },
  "cells": [
    {
      "cell_type": "markdown",
      "metadata": {
        "id": "NjXgiY3333_t"
      },
      "source": [
        "<h2>Импортируем данные из файла и просматриваем их</h2>\n"
      ]
    },
    {
      "cell_type": "code",
      "metadata": {
        "colab": {
          "base_uri": "https://localhost:8080/",
          "height": 206
        },
        "id": "HxHHFICl5Cge",
        "outputId": "afef1b2b-f52e-44df-8ed7-69c788d321e1"
      },
      "source": [
        "import pandas as pd\n",
        "\n",
        "\n",
        "\n",
        "data = pd.read_csv(\"housing.csv\")\n",
        "data.head()"
      ],
      "execution_count": 2,
      "outputs": [
        {
          "output_type": "execute_result",
          "data": {
            "text/html": [
              "<div>\n",
              "<style scoped>\n",
              "    .dataframe tbody tr th:only-of-type {\n",
              "        vertical-align: middle;\n",
              "    }\n",
              "\n",
              "    .dataframe tbody tr th {\n",
              "        vertical-align: top;\n",
              "    }\n",
              "\n",
              "    .dataframe thead th {\n",
              "        text-align: right;\n",
              "    }\n",
              "</style>\n",
              "<table border=\"1\" class=\"dataframe\">\n",
              "  <thead>\n",
              "    <tr style=\"text-align: right;\">\n",
              "      <th></th>\n",
              "      <th>longitude</th>\n",
              "      <th>latitude</th>\n",
              "      <th>housing_median_age</th>\n",
              "      <th>total_rooms</th>\n",
              "      <th>total_bedrooms</th>\n",
              "      <th>population</th>\n",
              "      <th>households</th>\n",
              "      <th>median_income</th>\n",
              "      <th>median_house_value</th>\n",
              "      <th>ocean_proximity</th>\n",
              "    </tr>\n",
              "  </thead>\n",
              "  <tbody>\n",
              "    <tr>\n",
              "      <th>0</th>\n",
              "      <td>-122.23</td>\n",
              "      <td>37.88</td>\n",
              "      <td>41.0</td>\n",
              "      <td>880.0</td>\n",
              "      <td>129.0</td>\n",
              "      <td>322.0</td>\n",
              "      <td>126.0</td>\n",
              "      <td>8.3252</td>\n",
              "      <td>452600.0</td>\n",
              "      <td>NEAR BAY</td>\n",
              "    </tr>\n",
              "    <tr>\n",
              "      <th>1</th>\n",
              "      <td>-122.22</td>\n",
              "      <td>37.86</td>\n",
              "      <td>21.0</td>\n",
              "      <td>7099.0</td>\n",
              "      <td>1106.0</td>\n",
              "      <td>2401.0</td>\n",
              "      <td>1138.0</td>\n",
              "      <td>8.3014</td>\n",
              "      <td>358500.0</td>\n",
              "      <td>NEAR BAY</td>\n",
              "    </tr>\n",
              "    <tr>\n",
              "      <th>2</th>\n",
              "      <td>-122.24</td>\n",
              "      <td>37.85</td>\n",
              "      <td>52.0</td>\n",
              "      <td>1467.0</td>\n",
              "      <td>190.0</td>\n",
              "      <td>496.0</td>\n",
              "      <td>177.0</td>\n",
              "      <td>7.2574</td>\n",
              "      <td>352100.0</td>\n",
              "      <td>NEAR BAY</td>\n",
              "    </tr>\n",
              "    <tr>\n",
              "      <th>3</th>\n",
              "      <td>-122.25</td>\n",
              "      <td>37.85</td>\n",
              "      <td>52.0</td>\n",
              "      <td>1274.0</td>\n",
              "      <td>235.0</td>\n",
              "      <td>558.0</td>\n",
              "      <td>219.0</td>\n",
              "      <td>5.6431</td>\n",
              "      <td>341300.0</td>\n",
              "      <td>NEAR BAY</td>\n",
              "    </tr>\n",
              "    <tr>\n",
              "      <th>4</th>\n",
              "      <td>-122.25</td>\n",
              "      <td>37.85</td>\n",
              "      <td>52.0</td>\n",
              "      <td>1627.0</td>\n",
              "      <td>280.0</td>\n",
              "      <td>565.0</td>\n",
              "      <td>259.0</td>\n",
              "      <td>3.8462</td>\n",
              "      <td>342200.0</td>\n",
              "      <td>NEAR BAY</td>\n",
              "    </tr>\n",
              "  </tbody>\n",
              "</table>\n",
              "</div>"
            ],
            "text/plain": [
              "   longitude  latitude  ...  median_house_value  ocean_proximity\n",
              "0    -122.23     37.88  ...            452600.0         NEAR BAY\n",
              "1    -122.22     37.86  ...            358500.0         NEAR BAY\n",
              "2    -122.24     37.85  ...            352100.0         NEAR BAY\n",
              "3    -122.25     37.85  ...            341300.0         NEAR BAY\n",
              "4    -122.25     37.85  ...            342200.0         NEAR BAY\n",
              "\n",
              "[5 rows x 10 columns]"
            ]
          },
          "metadata": {},
          "execution_count": 2
        }
      ]
    },
    {
      "cell_type": "markdown",
      "metadata": {
        "id": "VOvcwyIB4FC9"
      },
      "source": [
        "<h2>Просматриваем типы данных, чтобы убедиться, что нет \"испорченных\" столбцов, типы которых не совпадают с описанием</h2>\n"
      ]
    },
    {
      "cell_type": "code",
      "metadata": {
        "colab": {
          "base_uri": "https://localhost:8080/"
        },
        "id": "Z8_gEYscHkPE",
        "outputId": "e1711e6b-ad98-4ae6-f56c-ad37fb6fe13d"
      },
      "source": [
        "data.info()"
      ],
      "execution_count": 3,
      "outputs": [
        {
          "output_type": "stream",
          "name": "stdout",
          "text": [
            "<class 'pandas.core.frame.DataFrame'>\n",
            "RangeIndex: 20640 entries, 0 to 20639\n",
            "Data columns (total 10 columns):\n",
            " #   Column              Non-Null Count  Dtype  \n",
            "---  ------              --------------  -----  \n",
            " 0   longitude           20640 non-null  float64\n",
            " 1   latitude            20640 non-null  float64\n",
            " 2   housing_median_age  20640 non-null  float64\n",
            " 3   total_rooms         20640 non-null  float64\n",
            " 4   total_bedrooms      20433 non-null  float64\n",
            " 5   population          20640 non-null  float64\n",
            " 6   households          20640 non-null  float64\n",
            " 7   median_income       20640 non-null  float64\n",
            " 8   median_house_value  20640 non-null  float64\n",
            " 9   ocean_proximity     20640 non-null  object \n",
            "dtypes: float64(9), object(1)\n",
            "memory usage: 1.6+ MB\n"
          ]
        }
      ]
    },
    {
      "cell_type": "markdown",
      "metadata": {
        "id": "G_uA6beA4Q27"
      },
      "source": [
        "<h2>Проверяем, есть ли пустые ячейки в данных</h2>\n"
      ]
    },
    {
      "cell_type": "code",
      "metadata": {
        "colab": {
          "base_uri": "https://localhost:8080/"
        },
        "id": "3tI0nd9PAXc9",
        "outputId": "d4a05120-0ae1-45fa-9440-71fa9eb425c8"
      },
      "source": [
        "data.isna().sum()"
      ],
      "execution_count": 4,
      "outputs": [
        {
          "output_type": "execute_result",
          "data": {
            "text/plain": [
              "longitude               0\n",
              "latitude                0\n",
              "housing_median_age      0\n",
              "total_rooms             0\n",
              "total_bedrooms        207\n",
              "population              0\n",
              "households              0\n",
              "median_income           0\n",
              "median_house_value      0\n",
              "ocean_proximity         0\n",
              "dtype: int64"
            ]
          },
          "metadata": {},
          "execution_count": 4
        }
      ]
    },
    {
      "cell_type": "markdown",
      "metadata": {
        "id": "PaQKpt5D4Vmy"
      },
      "source": [
        "<p>Оказалось, что в столбце total_bedrooms есть пустые значения. Их немного, но они есть. Терять их не хочется, пожтому будем их заполнять</p>"
      ]
    },
    {
      "cell_type": "markdown",
      "metadata": {
        "id": "coOgo9_I4fTl"
      },
      "source": [
        "<h2>Попробуем посмотреть некоторые строки с пустыми значениями</h2>\n"
      ]
    },
    {
      "cell_type": "code",
      "metadata": {
        "colab": {
          "base_uri": "https://localhost:8080/",
          "height": 423
        },
        "id": "LsvP-dTaAboL",
        "outputId": "936d2e3b-883a-405d-de18-a7916587ed46"
      },
      "source": [
        "data[data['total_bedrooms'].isna()]"
      ],
      "execution_count": 5,
      "outputs": [
        {
          "output_type": "execute_result",
          "data": {
            "text/html": [
              "<div>\n",
              "<style scoped>\n",
              "    .dataframe tbody tr th:only-of-type {\n",
              "        vertical-align: middle;\n",
              "    }\n",
              "\n",
              "    .dataframe tbody tr th {\n",
              "        vertical-align: top;\n",
              "    }\n",
              "\n",
              "    .dataframe thead th {\n",
              "        text-align: right;\n",
              "    }\n",
              "</style>\n",
              "<table border=\"1\" class=\"dataframe\">\n",
              "  <thead>\n",
              "    <tr style=\"text-align: right;\">\n",
              "      <th></th>\n",
              "      <th>longitude</th>\n",
              "      <th>latitude</th>\n",
              "      <th>housing_median_age</th>\n",
              "      <th>total_rooms</th>\n",
              "      <th>total_bedrooms</th>\n",
              "      <th>population</th>\n",
              "      <th>households</th>\n",
              "      <th>median_income</th>\n",
              "      <th>median_house_value</th>\n",
              "      <th>ocean_proximity</th>\n",
              "    </tr>\n",
              "  </thead>\n",
              "  <tbody>\n",
              "    <tr>\n",
              "      <th>290</th>\n",
              "      <td>-122.16</td>\n",
              "      <td>37.77</td>\n",
              "      <td>47.0</td>\n",
              "      <td>1256.0</td>\n",
              "      <td>NaN</td>\n",
              "      <td>570.0</td>\n",
              "      <td>218.0</td>\n",
              "      <td>4.3750</td>\n",
              "      <td>161900.0</td>\n",
              "      <td>NEAR BAY</td>\n",
              "    </tr>\n",
              "    <tr>\n",
              "      <th>341</th>\n",
              "      <td>-122.17</td>\n",
              "      <td>37.75</td>\n",
              "      <td>38.0</td>\n",
              "      <td>992.0</td>\n",
              "      <td>NaN</td>\n",
              "      <td>732.0</td>\n",
              "      <td>259.0</td>\n",
              "      <td>1.6196</td>\n",
              "      <td>85100.0</td>\n",
              "      <td>NEAR BAY</td>\n",
              "    </tr>\n",
              "    <tr>\n",
              "      <th>538</th>\n",
              "      <td>-122.28</td>\n",
              "      <td>37.78</td>\n",
              "      <td>29.0</td>\n",
              "      <td>5154.0</td>\n",
              "      <td>NaN</td>\n",
              "      <td>3741.0</td>\n",
              "      <td>1273.0</td>\n",
              "      <td>2.5762</td>\n",
              "      <td>173400.0</td>\n",
              "      <td>NEAR BAY</td>\n",
              "    </tr>\n",
              "    <tr>\n",
              "      <th>563</th>\n",
              "      <td>-122.24</td>\n",
              "      <td>37.75</td>\n",
              "      <td>45.0</td>\n",
              "      <td>891.0</td>\n",
              "      <td>NaN</td>\n",
              "      <td>384.0</td>\n",
              "      <td>146.0</td>\n",
              "      <td>4.9489</td>\n",
              "      <td>247100.0</td>\n",
              "      <td>NEAR BAY</td>\n",
              "    </tr>\n",
              "    <tr>\n",
              "      <th>696</th>\n",
              "      <td>-122.10</td>\n",
              "      <td>37.69</td>\n",
              "      <td>41.0</td>\n",
              "      <td>746.0</td>\n",
              "      <td>NaN</td>\n",
              "      <td>387.0</td>\n",
              "      <td>161.0</td>\n",
              "      <td>3.9063</td>\n",
              "      <td>178400.0</td>\n",
              "      <td>NEAR BAY</td>\n",
              "    </tr>\n",
              "    <tr>\n",
              "      <th>...</th>\n",
              "      <td>...</td>\n",
              "      <td>...</td>\n",
              "      <td>...</td>\n",
              "      <td>...</td>\n",
              "      <td>...</td>\n",
              "      <td>...</td>\n",
              "      <td>...</td>\n",
              "      <td>...</td>\n",
              "      <td>...</td>\n",
              "      <td>...</td>\n",
              "    </tr>\n",
              "    <tr>\n",
              "      <th>20267</th>\n",
              "      <td>-119.19</td>\n",
              "      <td>34.20</td>\n",
              "      <td>18.0</td>\n",
              "      <td>3620.0</td>\n",
              "      <td>NaN</td>\n",
              "      <td>3171.0</td>\n",
              "      <td>779.0</td>\n",
              "      <td>3.3409</td>\n",
              "      <td>220500.0</td>\n",
              "      <td>NEAR OCEAN</td>\n",
              "    </tr>\n",
              "    <tr>\n",
              "      <th>20268</th>\n",
              "      <td>-119.18</td>\n",
              "      <td>34.19</td>\n",
              "      <td>19.0</td>\n",
              "      <td>2393.0</td>\n",
              "      <td>NaN</td>\n",
              "      <td>1938.0</td>\n",
              "      <td>762.0</td>\n",
              "      <td>1.6953</td>\n",
              "      <td>167400.0</td>\n",
              "      <td>NEAR OCEAN</td>\n",
              "    </tr>\n",
              "    <tr>\n",
              "      <th>20372</th>\n",
              "      <td>-118.88</td>\n",
              "      <td>34.17</td>\n",
              "      <td>15.0</td>\n",
              "      <td>4260.0</td>\n",
              "      <td>NaN</td>\n",
              "      <td>1701.0</td>\n",
              "      <td>669.0</td>\n",
              "      <td>5.1033</td>\n",
              "      <td>410700.0</td>\n",
              "      <td>&lt;1H OCEAN</td>\n",
              "    </tr>\n",
              "    <tr>\n",
              "      <th>20460</th>\n",
              "      <td>-118.75</td>\n",
              "      <td>34.29</td>\n",
              "      <td>17.0</td>\n",
              "      <td>5512.0</td>\n",
              "      <td>NaN</td>\n",
              "      <td>2734.0</td>\n",
              "      <td>814.0</td>\n",
              "      <td>6.6073</td>\n",
              "      <td>258100.0</td>\n",
              "      <td>&lt;1H OCEAN</td>\n",
              "    </tr>\n",
              "    <tr>\n",
              "      <th>20484</th>\n",
              "      <td>-118.72</td>\n",
              "      <td>34.28</td>\n",
              "      <td>17.0</td>\n",
              "      <td>3051.0</td>\n",
              "      <td>NaN</td>\n",
              "      <td>1705.0</td>\n",
              "      <td>495.0</td>\n",
              "      <td>5.7376</td>\n",
              "      <td>218600.0</td>\n",
              "      <td>&lt;1H OCEAN</td>\n",
              "    </tr>\n",
              "  </tbody>\n",
              "</table>\n",
              "<p>207 rows × 10 columns</p>\n",
              "</div>"
            ],
            "text/plain": [
              "       longitude  latitude  ...  median_house_value  ocean_proximity\n",
              "290      -122.16     37.77  ...            161900.0         NEAR BAY\n",
              "341      -122.17     37.75  ...             85100.0         NEAR BAY\n",
              "538      -122.28     37.78  ...            173400.0         NEAR BAY\n",
              "563      -122.24     37.75  ...            247100.0         NEAR BAY\n",
              "696      -122.10     37.69  ...            178400.0         NEAR BAY\n",
              "...          ...       ...  ...                 ...              ...\n",
              "20267    -119.19     34.20  ...            220500.0       NEAR OCEAN\n",
              "20268    -119.18     34.19  ...            167400.0       NEAR OCEAN\n",
              "20372    -118.88     34.17  ...            410700.0        <1H OCEAN\n",
              "20460    -118.75     34.29  ...            258100.0        <1H OCEAN\n",
              "20484    -118.72     34.28  ...            218600.0        <1H OCEAN\n",
              "\n",
              "[207 rows x 10 columns]"
            ]
          },
          "metadata": {},
          "execution_count": 5
        }
      ]
    },
    {
      "cell_type": "markdown",
      "metadata": {
        "id": "rJeZHkH-4l2E"
      },
      "source": [
        "<h2>Заполняем пропуски с помощью группировки по другим столбцам</h2>\n",
        "<p></p>"
      ]
    },
    {
      "cell_type": "code",
      "metadata": {
        "id": "cDsgpDFyApHm"
      },
      "source": [
        "data.loc[:, 'total_bedrooms'] = data.groupby(['total_rooms'])['total_bedrooms'].transform(lambda x: x.fillna(x.median()))"
      ],
      "execution_count": 6,
      "outputs": []
    },
    {
      "cell_type": "markdown",
      "metadata": {
        "id": "3U3L9Shj4rLY"
      },
      "source": [
        "<p>Были выбран столбец total_rooms, так как есть гипотеза, что у квартир с одинаковым количеством комнат количество спален может совпадать</p>"
      ]
    },
    {
      "cell_type": "markdown",
      "metadata": {
        "id": "YrGofkaa457w"
      },
      "source": [
        "<h2>Проверяем, остались ли еще пропуски</h2>\n",
        "<p></p>"
      ]
    },
    {
      "cell_type": "code",
      "metadata": {
        "colab": {
          "base_uri": "https://localhost:8080/"
        },
        "id": "wXRXxwmYDBK-",
        "outputId": "4020bc25-cba6-4b1e-edb9-6552fc6efa2d"
      },
      "source": [
        "data.isna().sum()"
      ],
      "execution_count": 7,
      "outputs": [
        {
          "output_type": "execute_result",
          "data": {
            "text/plain": [
              "longitude              0\n",
              "latitude               0\n",
              "housing_median_age     0\n",
              "total_rooms            0\n",
              "total_bedrooms        15\n",
              "population             0\n",
              "households             0\n",
              "median_income          0\n",
              "median_house_value     0\n",
              "ocean_proximity        0\n",
              "dtype: int64"
            ]
          },
          "metadata": {},
          "execution_count": 7
        }
      ]
    },
    {
      "cell_type": "markdown",
      "metadata": {
        "id": "1y6E0vbt49uu"
      },
      "source": [
        "<h2>Пропуски остались. Заполним их медианным значением</h2>\n"
      ]
    },
    {
      "cell_type": "code",
      "metadata": {
        "id": "3T8-hcinHvs-"
      },
      "source": [
        "data['total_bedrooms'] = data['total_bedrooms'].fillna(data['total_bedrooms'].median())"
      ],
      "execution_count": 8,
      "outputs": []
    },
    {
      "cell_type": "code",
      "metadata": {
        "colab": {
          "base_uri": "https://localhost:8080/"
        },
        "id": "mpZ6kfNgH52Y",
        "outputId": "84a91c35-6284-4fff-d935-0ede07c2415a"
      },
      "source": [
        "data.isna().sum()"
      ],
      "execution_count": 9,
      "outputs": [
        {
          "output_type": "execute_result",
          "data": {
            "text/plain": [
              "longitude             0\n",
              "latitude              0\n",
              "housing_median_age    0\n",
              "total_rooms           0\n",
              "total_bedrooms        0\n",
              "population            0\n",
              "households            0\n",
              "median_income         0\n",
              "median_house_value    0\n",
              "ocean_proximity       0\n",
              "dtype: int64"
            ]
          },
          "metadata": {},
          "execution_count": 9
        }
      ]
    },
    {
      "cell_type": "markdown",
      "metadata": {
        "id": "yP5M_fWs5EJY"
      },
      "source": [
        "<h2>Проверим, есть ли в данных дубликаты</h2>\n",
        "<p></p>"
      ]
    },
    {
      "cell_type": "code",
      "metadata": {
        "colab": {
          "base_uri": "https://localhost:8080/"
        },
        "id": "LB8uCC1PH8tq",
        "outputId": "7d72c27d-31c9-4a7c-b80d-3280d1a3330f"
      },
      "source": [
        "data.duplicated().sum()"
      ],
      "execution_count": 10,
      "outputs": [
        {
          "output_type": "execute_result",
          "data": {
            "text/plain": [
              "0"
            ]
          },
          "metadata": {},
          "execution_count": 10
        }
      ]
    },
    {
      "cell_type": "markdown",
      "metadata": {
        "id": "iFVgfiKU5IDd"
      },
      "source": [
        "<h2>В таблице есть столбнц с категориальными значениями. Используем для него one-hot-encoding</h2>\n",
        "<p></p>"
      ]
    },
    {
      "cell_type": "code",
      "metadata": {
        "colab": {
          "base_uri": "https://localhost:8080/",
          "height": 206
        },
        "id": "dow_lwDTZltk",
        "outputId": "7373ead4-0446-450c-bfdc-a35151dca0dc"
      },
      "source": [
        "from sklearn.preprocessing import OneHotEncoder, LabelEncoder\n",
        "\n",
        "ohe = OneHotEncoder()\n",
        "main_cat_matrix = ohe.fit_transform(data[['ocean_proximity']])\n",
        "\n",
        "main_cat_matrix = main_cat_matrix.toarray()\n",
        "\n",
        "main_cat_df = pd.DataFrame(main_cat_matrix, columns=ohe.categories_[0])\n",
        "main_cat_df.index = data.index\n",
        "\n",
        "main_cat_df.head(5)\n",
        "\n"
      ],
      "execution_count": 11,
      "outputs": [
        {
          "output_type": "execute_result",
          "data": {
            "text/html": [
              "<div>\n",
              "<style scoped>\n",
              "    .dataframe tbody tr th:only-of-type {\n",
              "        vertical-align: middle;\n",
              "    }\n",
              "\n",
              "    .dataframe tbody tr th {\n",
              "        vertical-align: top;\n",
              "    }\n",
              "\n",
              "    .dataframe thead th {\n",
              "        text-align: right;\n",
              "    }\n",
              "</style>\n",
              "<table border=\"1\" class=\"dataframe\">\n",
              "  <thead>\n",
              "    <tr style=\"text-align: right;\">\n",
              "      <th></th>\n",
              "      <th>&lt;1H OCEAN</th>\n",
              "      <th>INLAND</th>\n",
              "      <th>ISLAND</th>\n",
              "      <th>NEAR BAY</th>\n",
              "      <th>NEAR OCEAN</th>\n",
              "    </tr>\n",
              "  </thead>\n",
              "  <tbody>\n",
              "    <tr>\n",
              "      <th>0</th>\n",
              "      <td>0.0</td>\n",
              "      <td>0.0</td>\n",
              "      <td>0.0</td>\n",
              "      <td>1.0</td>\n",
              "      <td>0.0</td>\n",
              "    </tr>\n",
              "    <tr>\n",
              "      <th>1</th>\n",
              "      <td>0.0</td>\n",
              "      <td>0.0</td>\n",
              "      <td>0.0</td>\n",
              "      <td>1.0</td>\n",
              "      <td>0.0</td>\n",
              "    </tr>\n",
              "    <tr>\n",
              "      <th>2</th>\n",
              "      <td>0.0</td>\n",
              "      <td>0.0</td>\n",
              "      <td>0.0</td>\n",
              "      <td>1.0</td>\n",
              "      <td>0.0</td>\n",
              "    </tr>\n",
              "    <tr>\n",
              "      <th>3</th>\n",
              "      <td>0.0</td>\n",
              "      <td>0.0</td>\n",
              "      <td>0.0</td>\n",
              "      <td>1.0</td>\n",
              "      <td>0.0</td>\n",
              "    </tr>\n",
              "    <tr>\n",
              "      <th>4</th>\n",
              "      <td>0.0</td>\n",
              "      <td>0.0</td>\n",
              "      <td>0.0</td>\n",
              "      <td>1.0</td>\n",
              "      <td>0.0</td>\n",
              "    </tr>\n",
              "  </tbody>\n",
              "</table>\n",
              "</div>"
            ],
            "text/plain": [
              "   <1H OCEAN  INLAND  ISLAND  NEAR BAY  NEAR OCEAN\n",
              "0        0.0     0.0     0.0       1.0         0.0\n",
              "1        0.0     0.0     0.0       1.0         0.0\n",
              "2        0.0     0.0     0.0       1.0         0.0\n",
              "3        0.0     0.0     0.0       1.0         0.0\n",
              "4        0.0     0.0     0.0       1.0         0.0"
            ]
          },
          "metadata": {},
          "execution_count": 11
        }
      ]
    },
    {
      "cell_type": "markdown",
      "metadata": {
        "id": "R9_b1vyn5SFO"
      },
      "source": [
        "<p>Получилось разбить все значения на 5</p>"
      ]
    },
    {
      "cell_type": "markdown",
      "metadata": {
        "id": "w0thiu8Z5Wz4"
      },
      "source": [
        "<h2>Заменяем столбец с категориальными значениями на 5 новых, которые только что сделали</h2>\n",
        "<p></p>"
      ]
    },
    {
      "cell_type": "code",
      "metadata": {
        "colab": {
          "base_uri": "https://localhost:8080/",
          "height": 461
        },
        "id": "BmNzN1t8cfua",
        "outputId": "06bd1625-f46e-41a1-a29e-a6a5f73d1133"
      },
      "source": [
        "data = data.drop(columns=['ocean_proximity'])\n",
        "\n",
        "data = data.join(main_cat_df)\n",
        "data"
      ],
      "execution_count": 12,
      "outputs": [
        {
          "output_type": "execute_result",
          "data": {
            "text/html": [
              "<div>\n",
              "<style scoped>\n",
              "    .dataframe tbody tr th:only-of-type {\n",
              "        vertical-align: middle;\n",
              "    }\n",
              "\n",
              "    .dataframe tbody tr th {\n",
              "        vertical-align: top;\n",
              "    }\n",
              "\n",
              "    .dataframe thead th {\n",
              "        text-align: right;\n",
              "    }\n",
              "</style>\n",
              "<table border=\"1\" class=\"dataframe\">\n",
              "  <thead>\n",
              "    <tr style=\"text-align: right;\">\n",
              "      <th></th>\n",
              "      <th>longitude</th>\n",
              "      <th>latitude</th>\n",
              "      <th>housing_median_age</th>\n",
              "      <th>total_rooms</th>\n",
              "      <th>total_bedrooms</th>\n",
              "      <th>population</th>\n",
              "      <th>households</th>\n",
              "      <th>median_income</th>\n",
              "      <th>median_house_value</th>\n",
              "      <th>&lt;1H OCEAN</th>\n",
              "      <th>INLAND</th>\n",
              "      <th>ISLAND</th>\n",
              "      <th>NEAR BAY</th>\n",
              "      <th>NEAR OCEAN</th>\n",
              "    </tr>\n",
              "  </thead>\n",
              "  <tbody>\n",
              "    <tr>\n",
              "      <th>0</th>\n",
              "      <td>-122.23</td>\n",
              "      <td>37.88</td>\n",
              "      <td>41.0</td>\n",
              "      <td>880.0</td>\n",
              "      <td>129.0</td>\n",
              "      <td>322.0</td>\n",
              "      <td>126.0</td>\n",
              "      <td>8.3252</td>\n",
              "      <td>452600.0</td>\n",
              "      <td>0.0</td>\n",
              "      <td>0.0</td>\n",
              "      <td>0.0</td>\n",
              "      <td>1.0</td>\n",
              "      <td>0.0</td>\n",
              "    </tr>\n",
              "    <tr>\n",
              "      <th>1</th>\n",
              "      <td>-122.22</td>\n",
              "      <td>37.86</td>\n",
              "      <td>21.0</td>\n",
              "      <td>7099.0</td>\n",
              "      <td>1106.0</td>\n",
              "      <td>2401.0</td>\n",
              "      <td>1138.0</td>\n",
              "      <td>8.3014</td>\n",
              "      <td>358500.0</td>\n",
              "      <td>0.0</td>\n",
              "      <td>0.0</td>\n",
              "      <td>0.0</td>\n",
              "      <td>1.0</td>\n",
              "      <td>0.0</td>\n",
              "    </tr>\n",
              "    <tr>\n",
              "      <th>2</th>\n",
              "      <td>-122.24</td>\n",
              "      <td>37.85</td>\n",
              "      <td>52.0</td>\n",
              "      <td>1467.0</td>\n",
              "      <td>190.0</td>\n",
              "      <td>496.0</td>\n",
              "      <td>177.0</td>\n",
              "      <td>7.2574</td>\n",
              "      <td>352100.0</td>\n",
              "      <td>0.0</td>\n",
              "      <td>0.0</td>\n",
              "      <td>0.0</td>\n",
              "      <td>1.0</td>\n",
              "      <td>0.0</td>\n",
              "    </tr>\n",
              "    <tr>\n",
              "      <th>3</th>\n",
              "      <td>-122.25</td>\n",
              "      <td>37.85</td>\n",
              "      <td>52.0</td>\n",
              "      <td>1274.0</td>\n",
              "      <td>235.0</td>\n",
              "      <td>558.0</td>\n",
              "      <td>219.0</td>\n",
              "      <td>5.6431</td>\n",
              "      <td>341300.0</td>\n",
              "      <td>0.0</td>\n",
              "      <td>0.0</td>\n",
              "      <td>0.0</td>\n",
              "      <td>1.0</td>\n",
              "      <td>0.0</td>\n",
              "    </tr>\n",
              "    <tr>\n",
              "      <th>4</th>\n",
              "      <td>-122.25</td>\n",
              "      <td>37.85</td>\n",
              "      <td>52.0</td>\n",
              "      <td>1627.0</td>\n",
              "      <td>280.0</td>\n",
              "      <td>565.0</td>\n",
              "      <td>259.0</td>\n",
              "      <td>3.8462</td>\n",
              "      <td>342200.0</td>\n",
              "      <td>0.0</td>\n",
              "      <td>0.0</td>\n",
              "      <td>0.0</td>\n",
              "      <td>1.0</td>\n",
              "      <td>0.0</td>\n",
              "    </tr>\n",
              "    <tr>\n",
              "      <th>...</th>\n",
              "      <td>...</td>\n",
              "      <td>...</td>\n",
              "      <td>...</td>\n",
              "      <td>...</td>\n",
              "      <td>...</td>\n",
              "      <td>...</td>\n",
              "      <td>...</td>\n",
              "      <td>...</td>\n",
              "      <td>...</td>\n",
              "      <td>...</td>\n",
              "      <td>...</td>\n",
              "      <td>...</td>\n",
              "      <td>...</td>\n",
              "      <td>...</td>\n",
              "    </tr>\n",
              "    <tr>\n",
              "      <th>20635</th>\n",
              "      <td>-121.09</td>\n",
              "      <td>39.48</td>\n",
              "      <td>25.0</td>\n",
              "      <td>1665.0</td>\n",
              "      <td>374.0</td>\n",
              "      <td>845.0</td>\n",
              "      <td>330.0</td>\n",
              "      <td>1.5603</td>\n",
              "      <td>78100.0</td>\n",
              "      <td>0.0</td>\n",
              "      <td>1.0</td>\n",
              "      <td>0.0</td>\n",
              "      <td>0.0</td>\n",
              "      <td>0.0</td>\n",
              "    </tr>\n",
              "    <tr>\n",
              "      <th>20636</th>\n",
              "      <td>-121.21</td>\n",
              "      <td>39.49</td>\n",
              "      <td>18.0</td>\n",
              "      <td>697.0</td>\n",
              "      <td>150.0</td>\n",
              "      <td>356.0</td>\n",
              "      <td>114.0</td>\n",
              "      <td>2.5568</td>\n",
              "      <td>77100.0</td>\n",
              "      <td>0.0</td>\n",
              "      <td>1.0</td>\n",
              "      <td>0.0</td>\n",
              "      <td>0.0</td>\n",
              "      <td>0.0</td>\n",
              "    </tr>\n",
              "    <tr>\n",
              "      <th>20637</th>\n",
              "      <td>-121.22</td>\n",
              "      <td>39.43</td>\n",
              "      <td>17.0</td>\n",
              "      <td>2254.0</td>\n",
              "      <td>485.0</td>\n",
              "      <td>1007.0</td>\n",
              "      <td>433.0</td>\n",
              "      <td>1.7000</td>\n",
              "      <td>92300.0</td>\n",
              "      <td>0.0</td>\n",
              "      <td>1.0</td>\n",
              "      <td>0.0</td>\n",
              "      <td>0.0</td>\n",
              "      <td>0.0</td>\n",
              "    </tr>\n",
              "    <tr>\n",
              "      <th>20638</th>\n",
              "      <td>-121.32</td>\n",
              "      <td>39.43</td>\n",
              "      <td>18.0</td>\n",
              "      <td>1860.0</td>\n",
              "      <td>409.0</td>\n",
              "      <td>741.0</td>\n",
              "      <td>349.0</td>\n",
              "      <td>1.8672</td>\n",
              "      <td>84700.0</td>\n",
              "      <td>0.0</td>\n",
              "      <td>1.0</td>\n",
              "      <td>0.0</td>\n",
              "      <td>0.0</td>\n",
              "      <td>0.0</td>\n",
              "    </tr>\n",
              "    <tr>\n",
              "      <th>20639</th>\n",
              "      <td>-121.24</td>\n",
              "      <td>39.37</td>\n",
              "      <td>16.0</td>\n",
              "      <td>2785.0</td>\n",
              "      <td>616.0</td>\n",
              "      <td>1387.0</td>\n",
              "      <td>530.0</td>\n",
              "      <td>2.3886</td>\n",
              "      <td>89400.0</td>\n",
              "      <td>0.0</td>\n",
              "      <td>1.0</td>\n",
              "      <td>0.0</td>\n",
              "      <td>0.0</td>\n",
              "      <td>0.0</td>\n",
              "    </tr>\n",
              "  </tbody>\n",
              "</table>\n",
              "<p>20640 rows × 14 columns</p>\n",
              "</div>"
            ],
            "text/plain": [
              "       longitude  latitude  housing_median_age  ...  ISLAND  NEAR BAY  NEAR OCEAN\n",
              "0        -122.23     37.88                41.0  ...     0.0       1.0         0.0\n",
              "1        -122.22     37.86                21.0  ...     0.0       1.0         0.0\n",
              "2        -122.24     37.85                52.0  ...     0.0       1.0         0.0\n",
              "3        -122.25     37.85                52.0  ...     0.0       1.0         0.0\n",
              "4        -122.25     37.85                52.0  ...     0.0       1.0         0.0\n",
              "...          ...       ...                 ...  ...     ...       ...         ...\n",
              "20635    -121.09     39.48                25.0  ...     0.0       0.0         0.0\n",
              "20636    -121.21     39.49                18.0  ...     0.0       0.0         0.0\n",
              "20637    -121.22     39.43                17.0  ...     0.0       0.0         0.0\n",
              "20638    -121.32     39.43                18.0  ...     0.0       0.0         0.0\n",
              "20639    -121.24     39.37                16.0  ...     0.0       0.0         0.0\n",
              "\n",
              "[20640 rows x 14 columns]"
            ]
          },
          "metadata": {},
          "execution_count": 12
        }
      ]
    },
    {
      "cell_type": "markdown",
      "metadata": {
        "id": "rIFkih7T5g-D"
      },
      "source": [
        "<h2>Выделяем числовые столбцы. Выделяем из датафрейма столбец для предсказания. Удаляем столбец, который нужно предсказать</h2>\n",
        "<p></p>"
      ]
    },
    {
      "cell_type": "code",
      "metadata": {
        "id": "JvwzqNfBc2B5"
      },
      "source": [
        "numeric_columns = [\"longitude\", \t\"latitude\",\t\"housing_median_age\",\n",
        "                   \"total_rooms\",\t\"total_bedrooms\",\t\"population\",\t\"households\",\n",
        "                   \"median_income\"]\n",
        "\n",
        "\n",
        "y = data[\"median_house_value\"]\n",
        "\n",
        "X = data.drop(columns=['median_house_value'])\n",
        "\n"
      ],
      "execution_count": 13,
      "outputs": []
    },
    {
      "cell_type": "markdown",
      "metadata": {
        "id": "-qvKYyUc5tyL"
      },
      "source": [
        "<h2>Нарисуем все числовые столбцы в виде графиков, чтобы посмотерть на распределение</h2>\n",
        "<p></p>"
      ]
    },
    {
      "cell_type": "code",
      "metadata": {
        "colab": {
          "base_uri": "https://localhost:8080/",
          "height": 66
        },
        "id": "aUUxmRtpWKy0",
        "outputId": "ae8dc4e0-7c85-446c-c48b-fb2dda9936db"
      },
      "source": [
        "from matplotlib import pyplot as plt\n",
        "\n",
        "\n",
        "fig, ax = plt.subplots(1, len(numeric_columns), figsize=(150, 5))\n",
        "for i in range(len(numeric_columns)):\n",
        "    ax[i].set_title(f'Гисторгамма для {numeric_columns[i]}')\n",
        "    ax[i].hist(data[numeric_columns[i]])\n",
        "plt.show()"
      ],
      "execution_count": 14,
      "outputs": [
        {
          "output_type": "display_data",
          "data": {
            "image/png": "[encoded data removed]",
            "text/plain": [
              "<Figure size 10800x360 with 8 Axes>"
            ]
          },
          "metadata": {
            "needs_background": "light"
          }
        }
      ]
    },
    {
      "cell_type": "markdown",
      "metadata": {
        "id": "EoQEr9335ybW"
      },
      "source": [
        "<p>Никаких противоречий не выявлено. Все значения довольно хорошие. Единственное, что хотелось бы посмотреть - total_bedrooms. Здесь есть маленькие значения, будто спален вообще нет</p>"
      ]
    },
    {
      "cell_type": "code",
      "metadata": {
        "colab": {
          "base_uri": "https://localhost:8080/"
        },
        "id": "13SW2eLtXMER",
        "outputId": "310c79aa-a413-4dc2-b1dc-31f26f9f3733"
      },
      "source": [
        "data['total_bedrooms'].value_counts()"
      ],
      "execution_count": 15,
      "outputs": [
        {
          "output_type": "execute_result",
          "data": {
            "text/plain": [
              "280.0     55\n",
              "435.0     52\n",
              "331.0     51\n",
              "345.0     50\n",
              "343.0     49\n",
              "          ..\n",
              "1745.0     1\n",
              "1163.0     1\n",
              "2009.0     1\n",
              "3753.0     1\n",
              "1755.0     1\n",
              "Name: total_bedrooms, Length: 1972, dtype: int64"
            ]
          },
          "metadata": {},
          "execution_count": 15
        }
      ]
    },
    {
      "cell_type": "markdown",
      "metadata": {
        "id": "6aEhotF66A1o"
      },
      "source": [
        "<p>Посмотрели все возможные значения. Все хорошо</p>"
      ]
    },
    {
      "cell_type": "markdown",
      "metadata": {
        "id": "Kj5P6_WM6FjB"
      },
      "source": [
        "<h2>Проверим корреляцию данных</h2>\n"
      ]
    },
    {
      "cell_type": "code",
      "metadata": {
        "colab": {
          "base_uri": "https://localhost:8080/",
          "height": 300
        },
        "id": "6K14ysr8XT4D",
        "outputId": "5ab301ca-fe64-47ab-ebb3-9dc090561dda"
      },
      "source": [
        "import seaborn as sns\n",
        "\n",
        "\n",
        "corr_data = data.drop(columns=['median_house_value'])\n",
        "\n",
        "\n",
        "corr_digit = corr_data[numeric_columns].corr()\n",
        "corr_digit"
      ],
      "execution_count": 16,
      "outputs": [
        {
          "output_type": "execute_result",
          "data": {
            "text/html": [
              "<div>\n",
              "<style scoped>\n",
              "    .dataframe tbody tr th:only-of-type {\n",
              "        vertical-align: middle;\n",
              "    }\n",
              "\n",
              "    .dataframe tbody tr th {\n",
              "        vertical-align: top;\n",
              "    }\n",
              "\n",
              "    .dataframe thead th {\n",
              "        text-align: right;\n",
              "    }\n",
              "</style>\n",
              "<table border=\"1\" class=\"dataframe\">\n",
              "  <thead>\n",
              "    <tr style=\"text-align: right;\">\n",
              "      <th></th>\n",
              "      <th>longitude</th>\n",
              "      <th>latitude</th>\n",
              "      <th>housing_median_age</th>\n",
              "      <th>total_rooms</th>\n",
              "      <th>total_bedrooms</th>\n",
              "      <th>population</th>\n",
              "      <th>households</th>\n",
              "      <th>median_income</th>\n",
              "    </tr>\n",
              "  </thead>\n",
              "  <tbody>\n",
              "    <tr>\n",
              "      <th>longitude</th>\n",
              "      <td>1.000000</td>\n",
              "      <td>-0.924664</td>\n",
              "      <td>-0.108197</td>\n",
              "      <td>0.044568</td>\n",
              "      <td>0.068177</td>\n",
              "      <td>0.099773</td>\n",
              "      <td>0.055310</td>\n",
              "      <td>-0.015176</td>\n",
              "    </tr>\n",
              "    <tr>\n",
              "      <th>latitude</th>\n",
              "      <td>-0.924664</td>\n",
              "      <td>1.000000</td>\n",
              "      <td>0.011173</td>\n",
              "      <td>-0.036100</td>\n",
              "      <td>-0.065864</td>\n",
              "      <td>-0.108785</td>\n",
              "      <td>-0.071035</td>\n",
              "      <td>-0.079809</td>\n",
              "    </tr>\n",
              "    <tr>\n",
              "      <th>housing_median_age</th>\n",
              "      <td>-0.108197</td>\n",
              "      <td>0.011173</td>\n",
              "      <td>1.000000</td>\n",
              "      <td>-0.361262</td>\n",
              "      <td>-0.320627</td>\n",
              "      <td>-0.296244</td>\n",
              "      <td>-0.302916</td>\n",
              "      <td>-0.119034</td>\n",
              "    </tr>\n",
              "    <tr>\n",
              "      <th>total_rooms</th>\n",
              "      <td>0.044568</td>\n",
              "      <td>-0.036100</td>\n",
              "      <td>-0.361262</td>\n",
              "      <td>1.000000</td>\n",
              "      <td>0.928683</td>\n",
              "      <td>0.857126</td>\n",
              "      <td>0.918484</td>\n",
              "      <td>0.198050</td>\n",
              "    </tr>\n",
              "    <tr>\n",
              "      <th>total_bedrooms</th>\n",
              "      <td>0.068177</td>\n",
              "      <td>-0.065864</td>\n",
              "      <td>-0.320627</td>\n",
              "      <td>0.928683</td>\n",
              "      <td>1.000000</td>\n",
              "      <td>0.875194</td>\n",
              "      <td>0.976065</td>\n",
              "      <td>-0.006543</td>\n",
              "    </tr>\n",
              "    <tr>\n",
              "      <th>population</th>\n",
              "      <td>0.099773</td>\n",
              "      <td>-0.108785</td>\n",
              "      <td>-0.296244</td>\n",
              "      <td>0.857126</td>\n",
              "      <td>0.875194</td>\n",
              "      <td>1.000000</td>\n",
              "      <td>0.907222</td>\n",
              "      <td>0.004834</td>\n",
              "    </tr>\n",
              "    <tr>\n",
              "      <th>households</th>\n",
              "      <td>0.055310</td>\n",
              "      <td>-0.071035</td>\n",
              "      <td>-0.302916</td>\n",
              "      <td>0.918484</td>\n",
              "      <td>0.976065</td>\n",
              "      <td>0.907222</td>\n",
              "      <td>1.000000</td>\n",
              "      <td>0.013033</td>\n",
              "    </tr>\n",
              "    <tr>\n",
              "      <th>median_income</th>\n",
              "      <td>-0.015176</td>\n",
              "      <td>-0.079809</td>\n",
              "      <td>-0.119034</td>\n",
              "      <td>0.198050</td>\n",
              "      <td>-0.006543</td>\n",
              "      <td>0.004834</td>\n",
              "      <td>0.013033</td>\n",
              "      <td>1.000000</td>\n",
              "    </tr>\n",
              "  </tbody>\n",
              "</table>\n",
              "</div>"
            ],
            "text/plain": [
              "                    longitude  latitude  ...  households  median_income\n",
              "longitude            1.000000 -0.924664  ...    0.055310      -0.015176\n",
              "latitude            -0.924664  1.000000  ...   -0.071035      -0.079809\n",
              "housing_median_age  -0.108197  0.011173  ...   -0.302916      -0.119034\n",
              "total_rooms          0.044568 -0.036100  ...    0.918484       0.198050\n",
              "total_bedrooms       0.068177 -0.065864  ...    0.976065      -0.006543\n",
              "population           0.099773 -0.108785  ...    0.907222       0.004834\n",
              "households           0.055310 -0.071035  ...    1.000000       0.013033\n",
              "median_income       -0.015176 -0.079809  ...    0.013033       1.000000\n",
              "\n",
              "[8 rows x 8 columns]"
            ]
          },
          "metadata": {},
          "execution_count": 16
        }
      ]
    },
    {
      "cell_type": "code",
      "metadata": {
        "colab": {
          "base_uri": "https://localhost:8080/",
          "height": 583
        },
        "id": "rNpNj6F-Xm6b",
        "outputId": "5affb3a0-ab35-4ab6-c36c-28a18db16e17"
      },
      "source": [
        "plt.figure(figsize=(len(numeric_columns) - 1, 8))\n",
        "sns.heatmap(corr_digit, annot=True)\n",
        "plt.show()"
      ],
      "execution_count": 17,
      "outputs": [
        {
          "output_type": "display_data",
          "data": {
            "image/png": "[encoded data removed]",
            "text/plain": [
              "<Figure size 504x576 with 2 Axes>"
            ]
          },
          "metadata": {
            "needs_background": "light"
          }
        }
      ]
    },
    {
      "cell_type": "markdown",
      "metadata": {
        "id": "8rO-8Bd96JSd"
      },
      "source": [
        "<p>Как видно по графику, довольно большое количество столбцов находятся в зависимости друг от друга. Можно сделать следующие выводы:\n",
        "</p>\n",
        "\n",
        "1.   Широта и долгота очень сильно связаны друг с другом. Это и понятно. Они являются координатами\n",
        "2.   total_rooms очень сильно коррелирует с total_bedrooms, population и households. Это можно довольно легко объяснить. Чем больше комнат, тем больше спален. Чем больше комнат, тем больше людей.\n",
        "3. У возраста тоже есть небольшая связь (обратная зависимость) с некоторыми столбцами. Например, чем старше дом, тем меньше комнат.\n",
        "\n"
      ]
    },
    {
      "cell_type": "markdown",
      "metadata": {
        "id": "D54w9llr7G_I"
      },
      "source": [
        "<h2>Начинаем создавать модели для предсказаний</h2>\n",
        "<p>Первой будет модель линейной регрессии без никаких дополнений</p>"
      ]
    },
    {
      "cell_type": "code",
      "metadata": {
        "colab": {
          "base_uri": "https://localhost:8080/"
        },
        "id": "RwqeZ38tYFG4",
        "outputId": "fc8e3b2c-57b6-4a96-fe4a-49389b47c6d1"
      },
      "source": [
        "from sklearn.linear_model import LinearRegression\n",
        "\n",
        "estimator = LinearRegression()\n",
        "\n",
        "estimator.fit(X, y)"
      ],
      "execution_count": 18,
      "outputs": [
        {
          "output_type": "execute_result",
          "data": {
            "text/plain": [
              "LinearRegression()"
            ]
          },
          "metadata": {},
          "execution_count": 18
        }
      ]
    },
    {
      "cell_type": "code",
      "metadata": {
        "colab": {
          "base_uri": "https://localhost:8080/"
        },
        "id": "kAQmlLN8ZyxL",
        "outputId": "8b35c7db-82b1-48e9-b27b-7bfde8300040"
      },
      "source": [
        "from sklearn.metrics import mean_absolute_error, mean_squared_error\n",
        "\n",
        "\n",
        "y_predicted = estimator.predict(X)\n",
        "\n",
        "print(f'MAE: {mean_absolute_error(y, y_predicted)}')\n",
        "print(f'MSE: {mean_squared_error(y, y_predicted)}')\n",
        "print(f'RMSE: {mean_squared_error(y, y_predicted) ** 0.5}')"
      ],
      "execution_count": 19,
      "outputs": [
        {
          "output_type": "stream",
          "name": "stdout",
          "text": [
            "MAE: 49797.946368624755\n",
            "MSE: 4715935939.685398\n",
            "RMSE: 68672.67243733419\n"
          ]
        }
      ]
    },
    {
      "cell_type": "markdown",
      "metadata": {
        "id": "MluHcuQB7Q2V"
      },
      "source": [
        "<p>Довольно большой процент ошибок. Будем пробовать еще</p>"
      ]
    },
    {
      "cell_type": "markdown",
      "metadata": {
        "id": "SBlMfRJq7XQI"
      },
      "source": [
        "<h2>Попробуем использовать PCA</h2>\n"
      ]
    },
    {
      "cell_type": "code",
      "metadata": {
        "colab": {
          "base_uri": "https://localhost:8080/"
        },
        "id": "JQ7VMRLfbXmR",
        "outputId": "156df3d7-48d2-4c11-9aef-9de6047c20ae"
      },
      "source": [
        "from sklearn.decomposition import PCA\n",
        "\n",
        "\n",
        "pca_proc = PCA(n_components=13)\n",
        "X_train_pca = pca_proc.fit_transform(X)\n",
        "X_train_pca[:10]"
      ],
      "execution_count": 21,
      "outputs": [
        {
          "output_type": "execute_result",
          "data": {
            "text/plain": [
              "array([[-2.13032833e+03, -2.52980439e+02,  6.43691246e+01,\n",
              "         5.51611088e+00,  9.08520624e+00,  2.67418494e+00,\n",
              "        -4.39995536e+00, -4.46782377e-01,  3.56535781e-01,\n",
              "        -6.12790977e-01,  2.08695452e-01, -2.05674906e-04,\n",
              "        -1.36637322e-16],\n",
              "       [ 4.52912623e+03, -1.03522934e+03,  3.60174748e+01,\n",
              "         1.32562640e+02,  3.99118899e-01,  2.41045498e+00,\n",
              "        -1.90532007e+00, -1.05665584e-03,  2.99733324e-01,\n",
              "        -6.57699024e-01,  2.34256248e-01,  7.27953640e-04,\n",
              "         1.05057424e-14],\n",
              "       [-1.52264186e+03, -3.52577260e+02,  1.08283534e+02,\n",
              "         4.47584060e+00,  2.15459556e+01,  2.60180379e+00,\n",
              "        -3.01722790e+00, -3.09422478e-01,  3.14973519e-01,\n",
              "        -5.67540754e-01,  1.79626768e-01, -6.08236382e-04,\n",
              "        -7.65705215e-17],\n",
              "       [-1.65348486e+03, -2.04866398e+02,  3.12001015e+01,\n",
              "         2.86292287e+00,  2.07994113e+01,  2.82242594e+00,\n",
              "        -1.96070788e+00, -1.13412514e-01,  3.09914284e-01,\n",
              "        -5.79929771e-01,  1.70163937e-01, -7.56679348e-04,\n",
              "        -2.82499326e-17],\n",
              "       [-1.32614826e+03, -3.50071735e+02,  2.73266596e+01,\n",
              "         8.58164521e+00,  2.15334625e+01,  2.88747866e+00,\n",
              "         3.41794823e-02,  2.85915746e-01,  2.82114779e-01,\n",
              "        -5.96778584e-01,  1.63698876e-01, -9.97199643e-04,\n",
              "         1.70050025e-16],\n",
              "       [-2.03452314e+03, -1.78697574e+02, -1.70170465e+01,\n",
              "        -3.33803983e-01,  1.99297807e+01,  2.95553027e+00,\n",
              "        -6.80119714e-01,  1.50194358e-01,  2.98338810e-01,\n",
              "        -5.97094688e-01,  1.62897261e-01, -9.68604782e-04,\n",
              "         1.47274204e-16],\n",
              "       [-2.33136817e+02, -2.50031688e+02, -5.02908891e+01,\n",
              "         5.65801918e+01,  2.23218438e+01,  2.87431266e+00,\n",
              "         2.20869243e-01,  1.62238890e-01,  2.67005218e-01,\n",
              "        -5.81893367e-01,  1.70134687e-01, -6.38935122e-04,\n",
              "         6.43076437e-16],\n",
              "       [ 3.46423204e+02, -4.25094394e+02, -1.83176298e+02,\n",
              "         3.59233722e+01,  2.34446017e+01,  2.86335413e+00,\n",
              "         3.64187114e-01,  2.13382851e-01,  2.40593771e-01,\n",
              "        -5.71906643e-01,  1.44957048e-01, -9.37977044e-04,\n",
              "        -6.49026878e-16],\n",
              "       [-1.28361531e+02, -1.42741853e+02, -2.08205970e+02,\n",
              "         1.24737207e+00,  1.25685579e+01,  3.32093020e+00,\n",
              "         6.53298758e-01,  4.96244820e-01,  2.96168425e-01,\n",
              "        -6.39518820e-01,  1.45611038e-01, -1.00331629e-03,\n",
              "         3.73435571e-15],\n",
              "       [ 9.16629967e+02, -2.66396461e+02, -9.83819391e+01,\n",
              "         6.11992366e+01,  2.41785263e+01,  2.89911710e+00,\n",
              "         1.74233253e-01,  1.06836756e-01,  2.54514420e-01,\n",
              "        -5.66756403e-01,  1.67268933e-01, -5.93193190e-04,\n",
              "         4.78268071e-15]])"
            ]
          },
          "metadata": {},
          "execution_count": 21
        }
      ]
    },
    {
      "cell_type": "code",
      "metadata": {
        "colab": {
          "base_uri": "https://localhost:8080/"
        },
        "id": "fJTTWreub4aH",
        "outputId": "865a0bc5-7dd6-4a4a-83c0-c64b905a9cdc"
      },
      "source": [
        "lin_reg = LinearRegression()\n",
        "lin_reg.fit(X_train_pca, y)\n",
        "\n",
        "train_pred = lin_reg.predict(X_train_pca)\n",
        "\n",
        "print(f'MAE: {mean_absolute_error(y, train_pred)}')\n",
        "print(f'MSE: {mean_squared_error(y, train_pred)}')\n",
        "print(f'RMSE: {mean_squared_error(y, train_pred) ** 0.5}')\n",
        "\n"
      ],
      "execution_count": 22,
      "outputs": [
        {
          "output_type": "stream",
          "name": "stdout",
          "text": [
            "MAE: 49797.94636862454\n",
            "MSE: 4715935939.685398\n",
            "RMSE: 68672.67243733419\n"
          ]
        }
      ]
    },
    {
      "cell_type": "markdown",
      "metadata": {
        "id": "y8mpULuo7ddZ"
      },
      "source": [
        "<p>Результат не меняется, если использовать линейную модель и PCA</p>"
      ]
    },
    {
      "cell_type": "markdown",
      "metadata": {
        "id": "MC-4RxTY7k8y"
      },
      "source": [
        "<h2>Попробуем использовать нормализацию данных. Для этого возьмем StandardScaler. Также в качестве модели возьмем KNeighborsClassifier</h2>\n",
        "<p></p>"
      ]
    },
    {
      "cell_type": "code",
      "metadata": {
        "colab": {
          "base_uri": "https://localhost:8080/"
        },
        "id": "Le2ne7bocVIr",
        "outputId": "aa386dba-318d-4a5b-95c5-ca7277ab7031"
      },
      "source": [
        "from sklearn.preprocessing import StandardScaler\n",
        "from sklearn.neighbors import KNeighborsClassifier, KNeighborsRegressor, NearestNeighbors\n",
        "from sklearn.tree import DecisionTreeClassifier\n",
        "\n",
        "stand = StandardScaler()\n",
        "stand_train = stand.fit_transform(X[numeric_columns])\n",
        "\n",
        "X_train = X.copy()\n",
        "X_train.loc[:, numeric_columns] = stand_train\n",
        "\n",
        "X_train_sample = X_train\n",
        "y_train_sample = y.loc[X_train_sample.index]\n",
        "\n",
        "#  neib = KNeighborsRegressor(n_neighbors=9, weights='uniform', metric='cosine', n_jobs=-1)\n",
        "neib = KNeighborsRegressor(n_neighbors=9, weights='distance', algorithm='auto', n_jobs=-1)\n",
        "neib.fit(X_train_sample, y_train_sample)\n",
        "\n",
        "train_pred = neib.predict(X_train_sample)\n",
        "\n",
        "\n",
        "print(f'MAE: {mean_absolute_error(train_pred, y_train_sample)}')\n",
        "print(f'MSE: {mean_squared_error(train_pred, y_train_sample)}')\n",
        "print(f'RMSE: {mean_squared_error(train_pred, y_train_sample) ** 0.5}')\n"
      ],
      "execution_count": 71,
      "outputs": [
        {
          "output_type": "stream",
          "name": "stdout",
          "text": [
            "MAE: 0.0\n",
            "MSE: 0.0\n",
            "RMSE: 0.0\n"
          ]
        }
      ]
    },
    {
      "cell_type": "markdown",
      "metadata": {
        "id": "KsvA3n_p7uCU"
      },
      "source": [
        "<p>Здесь результат уже лучше, но попробуем еще лучше</p>"
      ]
    },
    {
      "cell_type": "markdown",
      "metadata": {
        "id": "VxrRI1u_74Ku"
      },
      "source": [
        "<h2>Используем линейную регрессию с нормализованными данными</h2>\n",
        "<p></p>"
      ]
    },
    {
      "cell_type": "code",
      "metadata": {
        "colab": {
          "base_uri": "https://localhost:8080/"
        },
        "id": "ofrT0Po0zyAw",
        "outputId": "9608f50c-6603-4b58-ab04-97430507ea2d"
      },
      "source": [
        "lin_reg = LinearRegression()\n",
        "lin_reg.fit(X_train_sample, y)\n",
        "\n",
        "train_pred = lin_reg.predict(X_train_sample)\n",
        "\n",
        "print(f'MAE: {mean_absolute_error(y, train_pred)}')\n",
        "print(f'MSE: {mean_squared_error(y, train_pred)}')\n",
        "print(f'RMSE: {mean_squared_error(y, train_pred) ** 0.5}')\n"
      ],
      "execution_count": 51,
      "outputs": [
        {
          "output_type": "stream",
          "name": "stdout",
          "text": [
            "MAE: 49797.94636862452\n",
            "MSE: 4715935939.685397\n",
            "RMSE: 68672.67243733417\n"
          ]
        }
      ]
    },
    {
      "cell_type": "markdown",
      "metadata": {
        "id": "NcIMgwbc79PU"
      },
      "source": [
        "<p>Результат лучше не стал</p>"
      ]
    },
    {
      "cell_type": "markdown",
      "metadata": {
        "id": "gTO0nVc48CZe"
      },
      "source": [
        "<h2>Объединяем нормализацию данных и PCA</h2>\n",
        "<p></p>"
      ]
    },
    {
      "cell_type": "code",
      "metadata": {
        "colab": {
          "base_uri": "https://localhost:8080/"
        },
        "id": "RWoHU8Fp0LYw",
        "outputId": "f0a43de3-69fd-44e6-d7fc-de1feb77f759"
      },
      "source": [
        "pca_proc = PCA(n_components=13)\n",
        "X_train_pca = pca_proc.fit_transform(X_train_sample)\n",
        "\n",
        "lin_reg = LinearRegression()\n",
        "lin_reg.fit(X_train_pca, y)\n",
        "\n",
        "train_pred = lin_reg.predict(X_train_pca)\n",
        "\n",
        "print(f'MAE: {mean_absolute_error(y, train_pred)}')\n",
        "print(f'MSE: {mean_squared_error(y, train_pred)}')\n",
        "print(f'RMSE: {mean_squared_error(y, train_pred) ** 0.5}')"
      ],
      "execution_count": 54,
      "outputs": [
        {
          "output_type": "stream",
          "name": "stdout",
          "text": [
            "MAE: 49797.94636862452\n",
            "MSE: 4715935939.685398\n",
            "RMSE: 68672.67243733419\n"
          ]
        }
      ]
    },
    {
      "cell_type": "markdown",
      "metadata": {
        "id": "4pOXg-4f8HJd"
      },
      "source": [
        "<p>Лучше не стало</p>"
      ]
    },
    {
      "cell_type": "markdown",
      "metadata": {
        "id": "eYI4nT3z8SgR"
      },
      "source": [
        "<h2>Используем DecisionTreeClassifier</h2>\n",
        "<p></p>"
      ]
    },
    {
      "cell_type": "code",
      "metadata": {
        "colab": {
          "base_uri": "https://localhost:8080/"
        },
        "id": "bWMXL2-drZu8",
        "outputId": "522e308c-9e8f-404b-ca8f-d7b15d35c907"
      },
      "source": [
        "from sklearn.metrics import accuracy_score\n",
        "\n",
        "tree = DecisionTreeClassifier(max_depth=5, random_state=42)\n",
        "tree.fit(X, y)\n",
        "\n",
        "\n",
        "tree_pred = tree.predict(X)\n",
        "print(f'MAE: {mean_absolute_error(tree_pred, y)}')\n",
        "print(f'MSE: {mean_squared_error(tree_pred, y)}')\n",
        "print(f'RMSE: {mean_squared_error(tree_pred, y) ** 0.5}')\n"
      ],
      "execution_count": 48,
      "outputs": [
        {
          "output_type": "stream",
          "name": "stdout",
          "text": [
            "MAE: 207568.94510658915\n",
            "MSE: 61996834299.473305\n",
            "RMSE: 248991.6349989961\n"
          ]
        }
      ]
    },
    {
      "cell_type": "markdown",
      "metadata": {
        "id": "QGW3AE3V8Xr7"
      },
      "source": [
        "<p>Тут результаты совсем плохие. Даже улучшать нет смысла</p>"
      ]
    },
    {
      "cell_type": "markdown",
      "metadata": {
        "id": "XttWStsZ8c5K"
      },
      "source": [
        "<h2>И последнее. Так как модель KNeighborsRegressor показала себя лучше всех, попробуем перебрать параметры для наилучшего результата</h2>\n",
        "<p></p>"
      ]
    },
    {
      "cell_type": "code",
      "metadata": {
        "colab": {
          "base_uri": "https://localhost:8080/"
        },
        "id": "qpgcxUMTxE70",
        "outputId": "be8ba455-3124-41d7-f73b-d01d8be634cc"
      },
      "source": [
        "from sklearn.pipeline import Pipeline\n",
        "from sklearn.preprocessing import StandardScaler\n",
        "from sklearn.model_selection import GridSearchCV, cross_val_score\n",
        "\n",
        "\n",
        "knn_pipe = Pipeline([('scaler', StandardScaler()), ('knn', KNeighborsRegressor(n_jobs=-1))])\n",
        "knn_params = {'knn__n_neighbors': range(1, 10),\n",
        "              'knn__weights': ['uniform', 'distance'],\n",
        "              'knn__algorithm': ['auto', 'ball_tree', 'kd_tree', 'brute'],\n",
        "              }\n",
        "\n",
        "knn_grid = GridSearchCV(knn_pipe, knn_params, n_jobs=-1,\n",
        "verbose=True)\n",
        "\n",
        "knn_grid.fit(X, y)\n",
        "\n",
        "knn_grid.best_params_, knn_grid.best_score_"
      ],
      "execution_count": 61,
      "outputs": [
        {
          "output_type": "stream",
          "name": "stdout",
          "text": [
            "Fitting 5 folds for each of 72 candidates, totalling 360 fits\n"
          ]
        },
        {
          "output_type": "stream",
          "name": "stderr",
          "text": [
            "/usr/local/lib/python3.7/dist-packages/joblib/externals/loky/process_executor.py:705: UserWarning: A worker stopped while some jobs were given to the executor. This can be caused by a too short worker timeout or by a memory leak.\n",
            "  \"timeout or by a memory leak.\", UserWarning\n"
          ]
        },
        {
          "output_type": "execute_result",
          "data": {
            "text/plain": [
              "({'knn__algorithm': 'auto', 'knn__n_neighbors': 9, 'knn__weights': 'distance'},\n",
              " 0.543545182555091)"
            ]
          },
          "metadata": {},
          "execution_count": 61
        }
      ]
    },
    {
      "cell_type": "markdown",
      "metadata": {
        "id": "Blo3MqXFQSqY"
      },
      "source": [
        "<p>Среди выбранных параметров лучше всего себя показали алгоритм auto, количество соседей - 9Б веса - distance. Создадим модель по таким параметрам и обучим на наших данных, посмотрим результат</p>"
      ]
    }
  ]
}